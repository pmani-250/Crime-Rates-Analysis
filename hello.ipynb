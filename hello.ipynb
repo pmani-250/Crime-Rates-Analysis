{
 "cells": [
  {
   "cell_type": "code",
   "execution_count": null,
   "metadata": {},
   "outputs": [],
   "source": [
    "import pandas as pd\n",
    "import numpy as np\n",
    "import statsmodels.api as sm\n",
    "import matplotlib.pyplot as plt\n",
    "import seaborn as sns\n",
    "import ggplot \n",
    "\n",
    "\n",
    "crime_data = pd.read_csv(\"Crime_Data_from_2020_to_Present.csv\")\n",
    "crime_data.head()\n",
    "x = crime_data[['AREA', 'TIME OCC', 'Crm Cd', 'Premis Cd']]\n",
    "y = crime_data['Crm Cd Desc']\n",
    "\n",
    "#drop missing values\n",
    "x = x.dropna()\n",
    "y = y.dropna()\n",
    "\n",
    "\n",
    "# x = sm.add_constant(x)\n",
    "model = sm.OLS(y, x).fit()\n",
    "print(model.params)\n",
    "print(model.summary())\n",
    "most_occurred_crime = crime_data['Crm Cd Desc'].value_counts().idxmax()\n",
    "print(\"Most Occurred Crime in LA:\", most_occurred_crime)\n",
    "\n",
    "plt.figure(figsize=(10, 6))\n",
    "sns.countplot(x ='Crm Cd Desc', data=crime_data)\n",
    "plt.xlabel(\"Crime Type\")\n",
    "plt.ylabel(\"Frequency\")\n",
    "plt.title(\"Most Occurred Crimes in LA\")\n",
    "plt.xticks(rotation=45)\n",
    "plt.tight_layout()\n",
    "plt.show()\n"
   ]
  },
  {
   "cell_type": "code",
   "execution_count": null,
   "metadata": {},
   "outputs": [],
   "source": []
  },
  {
   "cell_type": "code",
   "execution_count": null,
   "metadata": {},
   "outputs": [],
   "source": []
  }
 ],
 "metadata": {
  "language_info": {
   "name": "python"
  }
 },
 "nbformat": 4,
 "nbformat_minor": 2
}
